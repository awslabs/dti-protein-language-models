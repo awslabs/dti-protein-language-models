{
 "cells": [
  {
   "cell_type": "markdown",
   "id": "14223045",
   "metadata": {},
   "source": [
    "### Explore Kiba dataset"
   ]
  },
  {
   "cell_type": "code",
   "execution_count": 50,
   "id": "58fd73fa",
   "metadata": {},
   "outputs": [
    {
     "name": "stdout",
     "output_type": "stream",
     "text": [
      "Looking in indexes: https://pypi.org/simple, https://pip.repos.neuron.amazonaws.com\n",
      "Requirement already satisfied: networkx in /home/ec2-user/anaconda3/envs/python3/lib/python3.8/site-packages (2.6.3)\n",
      "\u001b[33mWARNING: You are using pip version 22.0.4; however, version 22.1 is available.\n",
      "You should consider upgrading via the '/home/ec2-user/anaconda3/envs/python3/bin/python -m pip install --upgrade pip' command.\u001b[0m\u001b[33m\n",
      "\u001b[0m"
     ]
    }
   ],
   "source": [
    "#!pip install pyTDC\n",
    "#!pip install rdkit-pypi==2021.3.1.2\n",
    "#!pip install networkx"
   ]
  },
  {
   "cell_type": "code",
   "execution_count": 115,
   "id": "8926099c",
   "metadata": {},
   "outputs": [],
   "source": [
    "import pandas as pd\n",
    "from tdc.multi_pred import DTI\n",
    "import numpy as np\n",
    "from matplotlib import pyplot as plt\n",
    "import generate_molecule_features as gmf"
   ]
  },
  {
   "cell_type": "code",
   "execution_count": 119,
   "id": "497abdf3",
   "metadata": {},
   "outputs": [],
   "source": [
    "%load_ext autoreload\n",
    "%autoreload 2"
   ]
  },
  {
   "cell_type": "code",
   "execution_count": 52,
   "id": "dea6ee82",
   "metadata": {},
   "outputs": [
    {
     "name": "stderr",
     "output_type": "stream",
     "text": [
      "Downloading...\n",
      "100%|██████████| 21.4M/21.4M [00:01<00:00, 21.1MiB/s]\n",
      "Loading...\n",
      "Done!\n"
     ]
    }
   ],
   "source": [
    "# this split contains train, test and valid\n",
    "# split is a dict\n",
    "data = DTI(name = 'Davis')\n",
    "split = data.get_split()"
   ]
  },
  {
   "cell_type": "code",
   "execution_count": 27,
   "id": "b26cb21f",
   "metadata": {},
   "outputs": [
    {
     "data": {
      "text/html": [
       "<div>\n",
       "<style scoped>\n",
       "    .dataframe tbody tr th:only-of-type {\n",
       "        vertical-align: middle;\n",
       "    }\n",
       "\n",
       "    .dataframe tbody tr th {\n",
       "        vertical-align: top;\n",
       "    }\n",
       "\n",
       "    .dataframe thead th {\n",
       "        text-align: right;\n",
       "    }\n",
       "</style>\n",
       "<table border=\"1\" class=\"dataframe\">\n",
       "  <thead>\n",
       "    <tr style=\"text-align: right;\">\n",
       "      <th></th>\n",
       "      <th>Drug_ID</th>\n",
       "      <th>Drug</th>\n",
       "      <th>Target_ID</th>\n",
       "      <th>Target</th>\n",
       "      <th>Y</th>\n",
       "    </tr>\n",
       "  </thead>\n",
       "  <tbody>\n",
       "    <tr>\n",
       "      <th>0</th>\n",
       "      <td>CHEMBL1087421</td>\n",
       "      <td>COc1cc2c(cc1Cl)C(c1ccc(Cl)c(Cl)c1)=NCC2</td>\n",
       "      <td>O14920</td>\n",
       "      <td>MSWSPSLTTQTCGAWEMKERLGTGGFGNVIRWHNQETGEQIAIKQC...</td>\n",
       "      <td>11.1</td>\n",
       "    </tr>\n",
       "    <tr>\n",
       "      <th>1</th>\n",
       "      <td>CHEMBL1087421</td>\n",
       "      <td>COc1cc2c(cc1Cl)C(c1ccc(Cl)c(Cl)c1)=NCC2</td>\n",
       "      <td>P04626</td>\n",
       "      <td>MELAALCRWGLLLALLPPGAASTQVCTGTDMKLRLPASPETHLDML...</td>\n",
       "      <td>11.1</td>\n",
       "    </tr>\n",
       "    <tr>\n",
       "      <th>2</th>\n",
       "      <td>CHEMBL1087421</td>\n",
       "      <td>COc1cc2c(cc1Cl)C(c1ccc(Cl)c(Cl)c1)=NCC2</td>\n",
       "      <td>P06239</td>\n",
       "      <td>MGCGCSSHPEDDWMENIDVCENCHYPIVPLDGKGTLLIRNGSEVRD...</td>\n",
       "      <td>11.1</td>\n",
       "    </tr>\n",
       "    <tr>\n",
       "      <th>3</th>\n",
       "      <td>CHEMBL1087421</td>\n",
       "      <td>COc1cc2c(cc1Cl)C(c1ccc(Cl)c(Cl)c1)=NCC2</td>\n",
       "      <td>P15056</td>\n",
       "      <td>MAALSGGGGGGAEPGQALFNGDMEPEAGAGAGAAASSAADPAIPEE...</td>\n",
       "      <td>11.1</td>\n",
       "    </tr>\n",
       "    <tr>\n",
       "      <th>4</th>\n",
       "      <td>CHEMBL1087421</td>\n",
       "      <td>COc1cc2c(cc1Cl)C(c1ccc(Cl)c(Cl)c1)=NCC2</td>\n",
       "      <td>P24941</td>\n",
       "      <td>MENFQKVEKIGEGTYGVVYKARNKLTGEVVALKKIRLDTETEGVPS...</td>\n",
       "      <td>11.1</td>\n",
       "    </tr>\n",
       "  </tbody>\n",
       "</table>\n",
       "</div>"
      ],
      "text/plain": [
       "         Drug_ID                                     Drug Target_ID  \\\n",
       "0  CHEMBL1087421  COc1cc2c(cc1Cl)C(c1ccc(Cl)c(Cl)c1)=NCC2    O14920   \n",
       "1  CHEMBL1087421  COc1cc2c(cc1Cl)C(c1ccc(Cl)c(Cl)c1)=NCC2    P04626   \n",
       "2  CHEMBL1087421  COc1cc2c(cc1Cl)C(c1ccc(Cl)c(Cl)c1)=NCC2    P06239   \n",
       "3  CHEMBL1087421  COc1cc2c(cc1Cl)C(c1ccc(Cl)c(Cl)c1)=NCC2    P15056   \n",
       "4  CHEMBL1087421  COc1cc2c(cc1Cl)C(c1ccc(Cl)c(Cl)c1)=NCC2    P24941   \n",
       "\n",
       "                                              Target     Y  \n",
       "0  MSWSPSLTTQTCGAWEMKERLGTGGFGNVIRWHNQETGEQIAIKQC...  11.1  \n",
       "1  MELAALCRWGLLLALLPPGAASTQVCTGTDMKLRLPASPETHLDML...  11.1  \n",
       "2  MGCGCSSHPEDDWMENIDVCENCHYPIVPLDGKGTLLIRNGSEVRD...  11.1  \n",
       "3  MAALSGGGGGGAEPGQALFNGDMEPEAGAGAGAAASSAADPAIPEE...  11.1  \n",
       "4  MENFQKVEKIGEGTYGVVYKARNKLTGEVVALKKIRLDTETEGVPS...  11.1  "
      ]
     },
     "execution_count": 27,
     "metadata": {},
     "output_type": "execute_result"
    }
   ],
   "source": [
    "split.get(\"train\").head()"
   ]
  },
  {
   "cell_type": "code",
   "execution_count": 43,
   "id": "412a6136",
   "metadata": {},
   "outputs": [
    {
     "data": {
      "text/plain": [
       "226"
      ]
     },
     "execution_count": 43,
     "metadata": {},
     "output_type": "execute_result"
    }
   ],
   "source": [
    "len(np.intersect1d(split.get(\"train\").Target_ID.tolist(), split.get(\"valid\").Target_ID.tolist()))\n",
    "len(np.intersect1d(split.get(\"train\").Target_ID.tolist(), split.get(\"valid\").Target_ID.tolist()))\n",
    "split.get(\"valid\")[\"Drug_ID\"].nunique(), split.get(\"valid\")[\"Target_ID\"].nunique()"
   ]
  },
  {
   "cell_type": "code",
   "execution_count": 96,
   "id": "5906f01f",
   "metadata": {},
   "outputs": [
    {
     "data": {
      "text/plain": [
       "'Cc1[nH]nc2ccc(-c3cncc(OCC(N)Cc4ccccc4)c3)cc12'"
      ]
     },
     "execution_count": 96,
     "metadata": {},
     "output_type": "execute_result"
    }
   ],
   "source": [
    "smile_example = split.get(\"train\")[\"Drug\"][1]\n",
    "smile_example"
   ]
  },
  {
   "cell_type": "code",
   "execution_count": 136,
   "id": "4e4b22ab",
   "metadata": {},
   "outputs": [
    {
     "data": {
      "image/png": "[encoded data removed]",
      "text/plain": [
       "<Figure size 432x288 with 1 Axes>"
      ]
     },
     "metadata": {},
     "output_type": "display_data"
    }
   ],
   "source": [
    "smile_graph_example = gmf.smile_to_graph(smile_example, show=True)"
   ]
  },
  {
   "cell_type": "code",
   "execution_count": 137,
   "id": "0d974672",
   "metadata": {},
   "outputs": [
    {
     "data": {
      "text/plain": [
       "3"
      ]
     },
     "execution_count": 137,
     "metadata": {},
     "output_type": "execute_result"
    }
   ],
   "source": [
    "len(smile_graph_example)"
   ]
  },
  {
   "cell_type": "code",
   "execution_count": 138,
   "id": "bf628c60",
   "metadata": {},
   "outputs": [
    {
     "data": {
      "text/plain": [
       "array([0.25, 0.  , 0.  , 0.  , 0.  , 0.  , 0.  , 0.  , 0.  , 0.  , 0.  ,\n",
       "       0.  , 0.  , 0.  , 0.  , 0.  , 0.  , 0.  , 0.  , 0.  , 0.  , 0.  ,\n",
       "       0.  , 0.  , 0.  , 0.  , 0.  , 0.  , 0.  , 0.  , 0.  , 0.  , 0.  ,\n",
       "       0.  , 0.  , 0.  , 0.  , 0.  , 0.  , 0.  , 0.  , 0.  , 0.  , 0.  ,\n",
       "       0.  , 0.25, 0.  , 0.  , 0.  , 0.  , 0.  , 0.  , 0.  , 0.  , 0.  ,\n",
       "       0.  , 0.  , 0.  , 0.25, 0.  , 0.  , 0.  , 0.  , 0.  , 0.  , 0.  ,\n",
       "       0.  , 0.  , 0.  , 0.25, 0.  , 0.  , 0.  , 0.  , 0.  , 0.  , 0.  ,\n",
       "       0.  ])"
      ]
     },
     "execution_count": 138,
     "metadata": {},
     "output_type": "execute_result"
    }
   ],
   "source": [
    "# the first atomo\n",
    "smile_graph_example[1][0]"
   ]
  },
  {
   "cell_type": "code",
   "execution_count": 139,
   "id": "15454e98",
   "metadata": {},
   "outputs": [
    {
     "data": {
      "text/plain": [
       "[[0, 1],\n",
       " [1, 0],\n",
       " [1, 2],\n",
       " [1, 26],\n",
       " [2, 1],\n",
       " [2, 3],\n",
       " [3, 2],\n",
       " [3, 4],\n",
       " [4, 3],\n",
       " [4, 5],\n",
       " [4, 26],\n",
       " [5, 4],\n",
       " [5, 6],\n",
       " [6, 5],\n",
       " [6, 7],\n",
       " [7, 6],\n",
       " [7, 8],\n",
       " [7, 25],\n",
       " [8, 7],\n",
       " [8, 9],\n",
       " [8, 24],\n",
       " [9, 8],\n",
       " [9, 10],\n",
       " [10, 9],\n",
       " [10, 11],\n",
       " [11, 10],\n",
       " [11, 12],\n",
       " [12, 11],\n",
       " [12, 13],\n",
       " [12, 24],\n",
       " [13, 12],\n",
       " [13, 14],\n",
       " [14, 13],\n",
       " [14, 15],\n",
       " [15, 14],\n",
       " [15, 16],\n",
       " [15, 17],\n",
       " [16, 15],\n",
       " [17, 15],\n",
       " [17, 18],\n",
       " [18, 17],\n",
       " [18, 19],\n",
       " [18, 23],\n",
       " [19, 18],\n",
       " [19, 20],\n",
       " [20, 19],\n",
       " [20, 21],\n",
       " [21, 20],\n",
       " [21, 22],\n",
       " [22, 21],\n",
       " [22, 23],\n",
       " [23, 22],\n",
       " [23, 18],\n",
       " [24, 12],\n",
       " [24, 8],\n",
       " [25, 7],\n",
       " [25, 26],\n",
       " [26, 25],\n",
       " [26, 1],\n",
       " [26, 4]]"
      ]
     },
     "execution_count": 139,
     "metadata": {},
     "output_type": "execute_result"
    }
   ],
   "source": [
    "smile_graph_example[2]\n"
   ]
  },
  {
   "cell_type": "code",
   "execution_count": 132,
   "id": "60ab4654",
   "metadata": {},
   "outputs": [
    {
     "data": {
      "text/plain": [
       "[[0, 1],\n",
       " [1, 2],\n",
       " [2, 3],\n",
       " [3, 4],\n",
       " [4, 5],\n",
       " [5, 6],\n",
       " [6, 7],\n",
       " [7, 8],\n",
       " [8, 9],\n",
       " [9, 10],\n",
       " [10, 11],\n",
       " [11, 12],\n",
       " [12, 13],\n",
       " [13, 14],\n",
       " [14, 15],\n",
       " [15, 16],\n",
       " [15, 17],\n",
       " [17, 18],\n",
       " [18, 19],\n",
       " [19, 20],\n",
       " [20, 21],\n",
       " [21, 22],\n",
       " [22, 23],\n",
       " [12, 24],\n",
       " [7, 25],\n",
       " [25, 26],\n",
       " [26, 1],\n",
       " [26, 4],\n",
       " [24, 8],\n",
       " [23, 18]]"
      ]
     },
     "execution_count": 132,
     "metadata": {},
     "output_type": "execute_result"
    }
   ],
   "source": []
  },
  {
   "cell_type": "code",
   "execution_count": 134,
   "id": "d266320f",
   "metadata": {},
   "outputs": [],
   "source": []
  },
  {
   "cell_type": "code",
   "execution_count": 135,
   "id": "668c3ad6",
   "metadata": {},
   "outputs": [
    {
     "data": {
      "image/png": "[encoded data removed]",
      "text/plain": [
       "<Figure size 432x288 with 1 Axes>"
      ]
     },
     "metadata": {},
     "output_type": "display_data"
    }
   ],
   "source": []
  },
  {
   "cell_type": "code",
   "execution_count": null,
   "id": "4d07f99a",
   "metadata": {},
   "outputs": [],
   "source": []
  }
 ],
 "metadata": {
  "kernelspec": {
   "display_name": "conda_python3",
   "language": "python",
   "name": "conda_python3"
  },
  "language_info": {
   "codemirror_mode": {
    "name": "ipython",
    "version": 3
   },
   "file_extension": ".py",
   "mimetype": "text/x-python",
   "name": "python",
   "nbconvert_exporter": "python",
   "pygments_lexer": "ipython3",
   "version": "3.8.12"
  }
 },
 "nbformat": 4,
 "nbformat_minor": 5
}
